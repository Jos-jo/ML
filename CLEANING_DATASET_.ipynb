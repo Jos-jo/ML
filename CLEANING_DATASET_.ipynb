{
  "nbformat": 4,
  "nbformat_minor": 0,
  "metadata": {
    "colab": {
      "name": "CLEANING DATASET .ipynb",
      "provenance": [],
      "authorship_tag": "ABX9TyPVP4kaAnMqHkniT5CKnsiM",
      "include_colab_link": true
    },
    "kernelspec": {
      "name": "python3",
      "display_name": "Python 3"
    },
    "language_info": {
      "name": "python"
    }
  },
  "cells": [
    {
      "cell_type": "markdown",
      "metadata": {
        "id": "view-in-github",
        "colab_type": "text"
      },
      "source": [
        "<a href=\"https://colab.research.google.com/github/Jos-jo/ML/blob/main/CLEANING_DATASET_.ipynb\" target=\"_parent\"><img src=\"https://colab.research.google.com/assets/colab-badge.svg\" alt=\"Open In Colab\"/></a>"
      ]
    },
    {
      "cell_type": "code",
      "metadata": {
        "colab": {
          "resources": {
            "http://localhost:8080/nbextensions/google.colab/files.js": {
              "data": "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",
              "ok": true,
              "headers": [
                [
                  "content-type",
                  "application/javascript"
                ]
              ],
              "status": 200,
              "status_text": ""
            }
          },
          "base_uri": "https://localhost:8080/",
          "height": 73
        },
        "id": "xpqfWzj5qswQ",
        "outputId": "fba46fc2-08b5-4fec-8f20-c7d9715858c9"
      },
      "source": [
        "# import the data set to be used\n",
        "from google.colab import files\n",
        "uploaded = files.upload()"
      ],
      "execution_count": 20,
      "outputs": [
        {
          "output_type": "display_data",
          "data": {
            "text/html": [
              "\n",
              "     <input type=\"file\" id=\"files-5102b221-0310-40b1-8c2b-d0ec2f2ca48d\" name=\"files[]\" multiple disabled\n",
              "        style=\"border:none\" />\n",
              "     <output id=\"result-5102b221-0310-40b1-8c2b-d0ec2f2ca48d\">\n",
              "      Upload widget is only available when the cell has been executed in the\n",
              "      current browser session. Please rerun this cell to enable.\n",
              "      </output>\n",
              "      <script src=\"/nbextensions/google.colab/files.js\"></script> "
            ],
            "text/plain": [
              "<IPython.core.display.HTML object>"
            ]
          },
          "metadata": {}
        },
        {
          "output_type": "stream",
          "name": "stdout",
          "text": [
            "Saving grades.csv to grades (1).csv\n"
          ]
        }
      ]
    },
    {
      "cell_type": "code",
      "metadata": {
        "id": "FczvYMasb2gg"
      },
      "source": [
        "import pandas as pd\n",
        "import numpy as np\n",
        "import matplotlib.pyplot as plt"
      ],
      "execution_count": 21,
      "outputs": []
    },
    {
      "cell_type": "code",
      "metadata": {
        "colab": {
          "base_uri": "https://localhost:8080/"
        },
        "id": "AlD4LWY4q5IW",
        "outputId": "be556bba-6bc1-409a-b641-e6029c9d7534"
      },
      "source": [
        "dataset = pd.read_csv('grades.csv')\n",
        "#print(dataset) \n",
        "print(dataset.to_string()) \n"
      ],
      "execution_count": 22,
      "outputs": [
        {
          "output_type": "stream",
          "name": "stdout",
          "text": [
            "    Prefix  Assignment  Tutorial  Tutorial.1  TakeHome   Final\n",
            "0        5       57.14     34.09       35.09     51.48   52.50\n",
            "1        8       95.05    105.49      106.49     99.07   68.33\n",
            "2        8       83.70     83.17       84.17     63.15   48.89\n",
            "3        7       81.22     96.06       97.06    105.93   80.56\n",
            "4        8       91.32     93.64       94.64    107.41   73.89\n",
            "5        7       95.00     92.58       93.58     97.78   68.06\n",
            "6        8       95.05    102.99      103.99     99.07   50.00\n",
            "7        7       72.85     86.85       87.85       NaN   56.11\n",
            "8        8       84.26     93.10       94.10     18.52   50.83\n",
            "9        7       90.10     97.55       98.55     88.89   63.61\n",
            "10       7       80.44     90.20       91.20     91.48   39.72\n",
            "11       6       86.26     80.60       81.60     87.59   77.50\n",
            "12       8       97.16    103.71      104.71     93.52   63.33\n",
            "13       7       91.28     83.53       84.53     99.81   92.22\n",
            "14       8       84.80     89.08       90.08     16.91   35.83\n",
            "15       7       93.83     95.43       96.43     80.93   90.00\n",
            "16       8       84.80     89.08       90.08     16.91   53.33\n",
            "17       4       92.01    102.52      103.52     86.11   49.17\n",
            "18       8       55.14     81.85       82.85     56.11   62.50\n",
            "19       8       93.04     82.93       83.93     83.33   91.11\n",
            "20       8       63.40     86.21       87.21     72.78     NaN\n",
            "21       8       75.27     97.52       98.52     61.11   66.11\n",
            "22       8       63.78     76.21       77.21     42.22   34.44\n",
            "23       7       80.44     90.20       91.20     91.48   72.22\n",
            "24       7       53.36     82.01       83.01    102.59   56.39\n",
            "25       6       91.28     95.24       96.24     97.59   92.78\n",
            "26       8       82.45     86.65       87.65     85.56   89.17\n",
            "27       8       75.27     86.67       87.67     61.11   88.89\n",
            "28       8       91.32     94.89       95.89    107.41   85.56\n",
            "29       7       91.62     65.18       66.18     90.00   45.56\n",
            "30       7       98.58    102.46      103.46     97.59   63.33\n",
            "31       7       86.26     88.57       89.57     87.59   55.00\n",
            "32       8       67.29     95.64       96.64     72.22   43.33\n",
            "33       7       98.58     91.03       92.03    104.26  107.78\n",
            "34       8       85.42     95.67       96.67    103.52   64.72\n",
            "35       5       88.09     63.39       64.39     93.70   50.83\n",
            "36       6       95.05     70.24       71.24     52.41   47.78\n",
            "37       7       89.89     57.97       58.97     85.19   51.67\n",
            "38       6       90.74     89.64       90.64     90.00     NaN\n",
            "39       7       95.00     94.36       95.36    100.93   85.00\n",
            "40       6       28.14     58.51       59.51     53.70   68.33\n",
            "41       7       95.14     82.67       83.67     89.81   90.83\n",
            "42       7       92.01    112.58      113.58     86.11   83.33\n",
            "43       7       86.26     74.66       75.66     64.07   82.22\n",
            "44       6       57.14     34.09       35.09     51.48   55.83\n",
            "45       7       93.83     57.32       58.32     77.96   45.56\n",
            "46       8       68.95     65.11       66.11     57.41   65.28\n",
            "47       8       85.01     98.47       99.47     83.33   72.22\n",
            "48       8       95.90     99.99      100.99    105.56  102.22\n",
            "49       8       92.46     95.75       96.75     83.33   48.89\n",
            "50       8       96.73     88.11       89.11     97.41   65.56\n",
            "51       8       83.70     83.17       84.17     63.15   57.78\n",
            "52       7       95.14     94.01       95.01    100.00   95.00\n",
            "53       7       98.58     88.30       89.30    100.93   99.17\n",
            "54       8       71.79    102.87      103.87     21.53   36.11\n",
            "55       8       71.79    101.68      102.68     21.53   49.44\n",
            "56       8       87.93    106.53      107.53     97.41   28.06\n",
            "57       8       87.93    108.97      109.97     87.96   47.78\n",
            "58       8       68.95     65.11       66.11     57.41   78.89\n",
            "59       7       72.85     86.85       87.85     60.37   46.67\n",
            "60       8       71.79    102.87      103.87     24.77     NaN\n",
            "61       8       92.02     97.76       98.76     47.22   60.56\n",
            "62       7       90.33     87.56       88.56     77.96   58.33\n",
            "63       7       95.00     94.36       95.36    100.93  101.11\n",
            "64       7       91.28    108.71      109.71     99.81   88.89\n",
            "65       8       97.00    103.02      104.02    106.48   94.44\n",
            "66       8       93.01    104.18      105.18     96.85   67.22\n",
            "67       8       92.02    100.58      101.58     63.89   63.89\n",
            "68       7      100.83    105.57      106.57    104.44  108.89\n",
            "69       8       80.53     92.80       93.80     72.78   66.67\n",
            "70       8       90.98     97.55       98.55     88.89   90.00\n",
            "71       8       93.59    103.83      104.83     96.85   87.22\n",
            "72       8       97.33    100.42      101.42    102.59   83.06\n",
            "73       7       84.26     91.31       92.31     83.33   75.56\n",
            "74       8       84.26     96.66       97.66     83.33   50.00\n",
            "75       7       93.83    102.19      103.19     94.44  102.78\n",
            "76       8       75.27     86.67       87.67     71.85   80.00\n",
            "77       8       92.02    100.58      101.58     63.89   65.28\n",
            "78       8       97.16    103.71      104.71     95.93   78.89\n",
            "79       8       66.17     93.68       94.68     42.22   61.39\n",
            "80       8       81.22     91.95       92.95    105.93   90.00\n",
            "81       7       74.29     65.70       66.70    103.52   55.00\n",
            "82       8       97.33    106.74      107.74    108.89   83.89\n",
            "83       4       86.86     62.64       63.64     85.19   62.78\n",
            "84       6       95.60     61.40       62.40     99.81   42.78\n",
            "85       4       87.93     99.47      100.47     87.96   61.11\n",
            "86       6       98.49     95.43       96.43     24.77   39.44\n",
            "87       7       74.35     92.93       93.93     78.70   73.89\n",
            "88       7       86.29     88.81       89.81     77.96   75.83\n",
            "89       8       97.00    100.52      101.52     90.74   58.61\n",
            "90       8       97.33    106.74      107.74    108.89   71.11\n",
            "91       8       96.41    103.71      104.71     95.93   66.39\n",
            "92       7       95.60     82.28       83.28    108.33   78.33\n",
            "93       8       87.52     91.58       92.58     71.85   85.00\n",
            "94       8       96.73    103.71      104.71     93.52   61.94\n",
            "95       7       85.34     80.54       81.54     93.70   39.72\n",
            "96       8       89.94    102.77      103.77     90.74   87.78\n",
            "97       7       95.60     76.13       77.13     99.81   85.56\n",
            "98       8       63.40     97.37       98.37     72.78   77.22\n"
          ]
        }
      ]
    },
    {
      "cell_type": "code",
      "metadata": {
        "id": "AlXNf0CeEYui"
      },
      "source": [
        "#remove the rows with empty cells onn final column\n",
        "\n",
        "df = dataset.dropna(subset=['Final','TakeHome'])\n"
      ],
      "execution_count": 27,
      "outputs": []
    },
    {
      "cell_type": "code",
      "metadata": {
        "colab": {
          "base_uri": "https://localhost:8080/"
        },
        "id": "JuS6CbndQPZH",
        "outputId": "bd34635c-dc35-4e73-f4bb-0213bf2c1dba"
      },
      "source": [
        "df.info()"
      ],
      "execution_count": 28,
      "outputs": [
        {
          "output_type": "stream",
          "name": "stdout",
          "text": [
            "<class 'pandas.core.frame.DataFrame'>\n",
            "Int64Index: 95 entries, 0 to 98\n",
            "Data columns (total 6 columns):\n",
            " #   Column      Non-Null Count  Dtype  \n",
            "---  ------      --------------  -----  \n",
            " 0   Prefix      95 non-null     int64  \n",
            " 1   Assignment  95 non-null     float64\n",
            " 2   Tutorial    95 non-null     float64\n",
            " 3   Tutorial.1  95 non-null     float64\n",
            " 4   TakeHome    95 non-null     float64\n",
            " 5   Final       95 non-null     float64\n",
            "dtypes: float64(5), int64(1)\n",
            "memory usage: 5.2 KB\n"
          ]
        }
      ]
    }
  ]
}